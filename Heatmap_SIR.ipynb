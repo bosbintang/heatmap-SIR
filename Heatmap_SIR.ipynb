{
  "nbformat": 4,
  "nbformat_minor": 0,
  "metadata": {
    "colab": {
      "provenance": []
    },
    "kernelspec": {
      "name": "python3",
      "display_name": "Python 3"
    }
  },
  "cells": [
    {
      "cell_type": "code",
      "metadata": {
        "id": "vsxiGL1ORSNs"
      },
      "source": [
        "import numpy as np\n",
        "import matplotlib.pyplot as plt\n",
        "import math"
      ],
      "execution_count": null,
      "outputs": []
    },
    {
      "cell_type": "code",
      "metadata": {
        "id": "nv-jwX6mRhBL",
        "colab": {
          "base_uri": "https://localhost:8080/",
          "height": 306
        },
        "outputId": "78499050-deb7-4c44-d247-8e0d117b716e"
      },
      "source": [
        "h = [[math.log10(3.2e6),math.log10(2.32e6),math.log10(1.38e5),math.log10(1545),math.log10(26)],\n",
        "     [math.log10(3.24e6),math.log10(3.12e6),math.log10(2.48e6),math.log10(7.5e5),math.log10(5.67e4)],\n",
        "     [math.log10(3.25e6),math.log10(3.24e6),math.log10(3.21e6),math.log10(3.14e6),math.log10(2.95e6)],\n",
        "     [math.log10(3.26e6),math.log10(3.25e6),math.log10(3.23e6),math.log10(3.2e6),math.log10(3.11e6)],\n",
        "     [math.log10(3.26e6),math.log10(3.26e6),math.log10(3.26e6),math.log10(3.26e6),math.log10(3.26e6)]]\n",
        "\n",
        "print(h)\n",
        "cs = plt.contourf(h)\n",
        "    #colors=['#808080', '#A0A0A0', '#C0C0C0'], extend='both')\n",
        "cs.cmap.set_over('red')\n",
        "cs.cmap.set_under('blue')\n",
        "cs.changed()"
      ],
      "execution_count": null,
      "outputs": [
        {
          "output_type": "stream",
          "text": [
            "[[6.505149978319906, 6.365487984890899, 5.139879086401237, 3.1889284837608534, 1.414973347970818], [6.510545010206612, 6.494154594018442, 6.394451680826216, 5.8750612633917, 4.753583058892906], [6.511883360978874, 6.510545010206612, 6.506505032404872, 6.496929648073215, 6.469822015978163], [6.513217600067939, 6.511883360978874, 6.509202522331103, 6.505149978319906, 6.492760389026838], [6.513217600067939, 6.513217600067939, 6.513217600067939, 6.513217600067939, 6.513217600067939]]\n"
          ],
          "name": "stdout"
        },
        {
          "output_type": "display_data",
          "data": {
            "image/png": "[encoded data removed]",
            "text/plain": [
              "<Figure size 432x288 with 1 Axes>"
            ]
          },
          "metadata": {
            "tags": [],
            "needs_background": "light"
          }
        }
      ]
    },
    {
      "cell_type": "code",
      "metadata": {
        "id": "FzP5SeB88IXO",
        "colab": {
          "base_uri": "https://localhost:8080/",
          "height": 269
        },
        "outputId": "91b257c5-a928-43ad-8c3d-90cb50165d0c"
      },
      "source": [
        "import numpy as np\n",
        "import matplotlib.pyplot as plt\n",
        "X = [0.25,0.5,0.75,0.8,1]\n",
        "Y = [20,40,60,80,100]\n",
        "Z = [[math.log10(3.2e6),math.log10(2.32e6),math.log10(1.38e5),math.log10(1545),math.log10(26)],\n",
        "     [math.log10(3.24e6),math.log10(3.12e6),math.log10(2.48e6),math.log10(7.5e5),math.log10(5.67e4)],\n",
        "     [math.log10(3.25e6),math.log10(3.24e6),math.log10(3.21e6),math.log10(3.14e6),math.log10(2.95e6)],\n",
        "     [math.log10(3.26e6),math.log10(3.25e6),math.log10(3.23e6),math.log10(3.2e6),math.log10(3.11e6)],\n",
        "     [math.log10(3.26e6),math.log10(3.26e6),math.log10(3.26e6),math.log10(3.26e6),math.log10(3.26e6)]]\n",
        "fig,ax=plt.subplots(1,1)\n",
        "cp = ax.contourf(Z)\n",
        "fig.colorbar(cp) # Add a colorbar to a plot\n",
        "\n",
        "\n",
        "plt.show()"
      ],
      "execution_count": null,
      "outputs": [
        {
          "output_type": "display_data",
          "data": {
            "image/png": "[encoded data removed]",
            "text/plain": [
              "<Figure size 432x288 with 2 Axes>"
            ]
          },
          "metadata": {
            "tags": [],
            "needs_background": "light"
          }
        }
      ]
    },
    {
      "cell_type": "code",
      "metadata": {
        "id": "iawoSmAS2_7d",
        "colab": {
          "base_uri": "https://localhost:8080/",
          "height": 34
        },
        "outputId": "5b10cd79-b250-449a-a5b5-3d7627b643da"
      },
      "source": [
        "m_S=50000\n",
        "m_I=1000\n",
        "m_R=20\n",
        "m_N=m_S+m_I+m_R\n",
        "b=0.2\n",
        "y=0.03\n",
        "\n",
        "n=150\n",
        "\n",
        "I=np.zeros((n,1))\n",
        "m_St=np.zeros((n,1))\n",
        "m_It=np.zeros((n,1))\n",
        "m_Rt=np.zeros((n,1))\n",
        "\n",
        "alpa=[0.25,0.5,0.75,0.8,1]\n",
        "lockdown=[20,40,60,80,100]\n",
        "\n",
        "for k in range(5):\n",
        "  a=alpa[k]\n",
        "  for j in range(5):\n",
        "    t=lockdown[j]\n",
        "    for i in range(t):\n",
        "      m_St[i]=m_S-((a*b/m_N)*m_S*m_I)\n",
        "      m_It[i]=m_I+((a*b/m_N)*m_S*m_I)-(y*m_I)\n",
        "      m_Rt[i]=m_R+(y*m_I)\n",
        "      m_S=m_St[i]\n",
        "      m_I=m_It[i]\n",
        "      m_R=m_Rt[i]\n",
        "    for i in range(t,n):\n",
        "      m_St[i]=m_S-((b/m_N)*m_S*m_I)\n",
        "      m_It[i]=m_I+((b/m_N)*m_S*m_I)-(y*m_I)\n",
        "      m_Rt[i]=m_R+(y*m_I)\n",
        "      m_S=m_St[i]\n",
        "      m_I=m_It[i]\n",
        "      m_R=m_Rt[i]\n",
        "    J=0.03*m_R\n",
        "print(J)\n",
        "    "
      ],
      "execution_count": null,
      "outputs": [
        {
          "output_type": "stream",
          "text": [
            "[1528.72861772]\n"
          ],
          "name": "stdout"
        }
      ]
    }
  ]
}